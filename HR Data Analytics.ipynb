{
 "cells": [
  {
   "cell_type": "code",
   "execution_count": 22,
   "id": "b4325812-392b-499e-851f-65ac37814856",
   "metadata": {},
   "outputs": [],
   "source": [
    "import numpy as np\n",
    "import pandas as pd\n",
    "import matplotlib.pyplot as plt\n",
    "import seaborn as sns"
   ]
  },
  {
   "cell_type": "code",
   "execution_count": 30,
   "id": "66d87bfc-3181-4641-bc1f-d5e051854171",
   "metadata": {
    "scrolled": true
   },
   "outputs": [],
   "source": [
    "df = pd.read_csv(r\"C:\\Users\\ashwi\\Downloads\\HR Data Analytics.csv\")"
   ]
  },
  {
   "cell_type": "code",
   "execution_count": 32,
   "id": "b0fb89a5-af26-41e1-bf9e-c8380f2e394e",
   "metadata": {},
   "outputs": [
    {
     "data": {
      "text/html": [
       "<div>\n",
       "<style scoped>\n",
       "    .dataframe tbody tr th:only-of-type {\n",
       "        vertical-align: middle;\n",
       "    }\n",
       "\n",
       "    .dataframe tbody tr th {\n",
       "        vertical-align: top;\n",
       "    }\n",
       "\n",
       "    .dataframe thead th {\n",
       "        text-align: right;\n",
       "    }\n",
       "</style>\n",
       "<table border=\"1\" class=\"dataframe\">\n",
       "  <thead>\n",
       "    <tr style=\"text-align: right;\">\n",
       "      <th></th>\n",
       "      <th>EmployeeId</th>\n",
       "      <th>Hrs</th>\n",
       "      <th>Rating</th>\n",
       "      <th>EmployeeSatisfaction</th>\n",
       "    </tr>\n",
       "  </thead>\n",
       "  <tbody>\n",
       "    <tr>\n",
       "      <th>0</th>\n",
       "      <td>E01</td>\n",
       "      <td>12.118051</td>\n",
       "      <td>Excellent</td>\n",
       "      <td>6</td>\n",
       "    </tr>\n",
       "    <tr>\n",
       "      <th>1</th>\n",
       "      <td>E02</td>\n",
       "      <td>13.298281</td>\n",
       "      <td>Excellent</td>\n",
       "      <td>8</td>\n",
       "    </tr>\n",
       "    <tr>\n",
       "      <th>2</th>\n",
       "      <td>E03</td>\n",
       "      <td>13.276334</td>\n",
       "      <td>Excellent</td>\n",
       "      <td>7</td>\n",
       "    </tr>\n",
       "    <tr>\n",
       "      <th>3</th>\n",
       "      <td>E04</td>\n",
       "      <td>10.798173</td>\n",
       "      <td>Excellent</td>\n",
       "      <td>9</td>\n",
       "    </tr>\n",
       "    <tr>\n",
       "      <th>4</th>\n",
       "      <td>E05</td>\n",
       "      <td>11.579172</td>\n",
       "      <td>Excellent</td>\n",
       "      <td>8</td>\n",
       "    </tr>\n",
       "    <tr>\n",
       "      <th>...</th>\n",
       "      <td>...</td>\n",
       "      <td>...</td>\n",
       "      <td>...</td>\n",
       "      <td>...</td>\n",
       "    </tr>\n",
       "    <tr>\n",
       "      <th>495</th>\n",
       "      <td>E496</td>\n",
       "      <td>13.807837</td>\n",
       "      <td>Outstanding</td>\n",
       "      <td>6</td>\n",
       "    </tr>\n",
       "    <tr>\n",
       "      <th>496</th>\n",
       "      <td>E497</td>\n",
       "      <td>9.237401</td>\n",
       "      <td>Excellent</td>\n",
       "      <td>8</td>\n",
       "    </tr>\n",
       "    <tr>\n",
       "      <th>497</th>\n",
       "      <td>E498</td>\n",
       "      <td>10.444520</td>\n",
       "      <td>Excellent</td>\n",
       "      <td>7</td>\n",
       "    </tr>\n",
       "    <tr>\n",
       "      <th>498</th>\n",
       "      <td>E499</td>\n",
       "      <td>12.143046</td>\n",
       "      <td>Excellent</td>\n",
       "      <td>8</td>\n",
       "    </tr>\n",
       "    <tr>\n",
       "      <th>499</th>\n",
       "      <td>E500</td>\n",
       "      <td>8.615313</td>\n",
       "      <td>satisfactory</td>\n",
       "      <td>7</td>\n",
       "    </tr>\n",
       "  </tbody>\n",
       "</table>\n",
       "<p>500 rows × 4 columns</p>\n",
       "</div>"
      ],
      "text/plain": [
       "    EmployeeId        Hrs        Rating  EmployeeSatisfaction\n",
       "0          E01  12.118051     Excellent                     6\n",
       "1          E02  13.298281     Excellent                     8\n",
       "2          E03  13.276334     Excellent                     7\n",
       "3          E04  10.798173     Excellent                     9\n",
       "4          E05  11.579172     Excellent                     8\n",
       "..         ...        ...           ...                   ...\n",
       "495       E496  13.807837   Outstanding                     6\n",
       "496       E497   9.237401     Excellent                     8\n",
       "497       E498  10.444520     Excellent                     7\n",
       "498       E499  12.143046     Excellent                     8\n",
       "499       E500   8.615313  satisfactory                     7\n",
       "\n",
       "[500 rows x 4 columns]"
      ]
     },
     "execution_count": 32,
     "metadata": {},
     "output_type": "execute_result"
    }
   ],
   "source": [
    "df"
   ]
  },
  {
   "cell_type": "code",
   "execution_count": 34,
   "id": "ca07260f-23a8-4258-abf2-b0e783682067",
   "metadata": {},
   "outputs": [
    {
     "name": "stdout",
     "output_type": "stream",
     "text": [
      "<class 'pandas.core.frame.DataFrame'>\n",
      "RangeIndex: 500 entries, 0 to 499\n",
      "Data columns (total 4 columns):\n",
      " #   Column                Non-Null Count  Dtype  \n",
      "---  ------                --------------  -----  \n",
      " 0   EmployeeId            500 non-null    object \n",
      " 1   Hrs                   492 non-null    float64\n",
      " 2   Rating                500 non-null    object \n",
      " 3   EmployeeSatisfaction  500 non-null    int64  \n",
      "dtypes: float64(1), int64(1), object(2)\n",
      "memory usage: 15.8+ KB\n"
     ]
    }
   ],
   "source": [
    "df.info()"
   ]
  },
  {
   "cell_type": "code",
   "execution_count": 36,
   "id": "4024f804-cede-461e-ad88-aacc792831b9",
   "metadata": {},
   "outputs": [
    {
     "data": {
      "text/plain": [
       "EmployeeId              0\n",
       "Hrs                     8\n",
       "Rating                  0\n",
       "EmployeeSatisfaction    0\n",
       "dtype: int64"
      ]
     },
     "execution_count": 36,
     "metadata": {},
     "output_type": "execute_result"
    }
   ],
   "source": [
    "df.isnull().sum()"
   ]
  },
  {
   "cell_type": "code",
   "execution_count": 38,
   "id": "a184f367-7ee0-4e0f-b2c2-f97940226f92",
   "metadata": {},
   "outputs": [
    {
     "data": {
      "text/plain": [
       "11.31"
      ]
     },
     "execution_count": 38,
     "metadata": {},
     "output_type": "execute_result"
    }
   ],
   "source": [
    "df['Hrs'].mean().round(2)"
   ]
  },
  {
   "cell_type": "code",
   "execution_count": 40,
   "id": "f206e9d7-e58b-4128-906b-27df0af85e03",
   "metadata": {},
   "outputs": [
    {
     "name": "stdout",
     "output_type": "stream",
     "text": [
      "Max= 120.398464\n",
      "Min= 0.091720323\n"
     ]
    }
   ],
   "source": [
    "Max=df['Hrs'].max()\n",
    "Min=df['Hrs'].min()\n",
    "print('Max=',Max)\n",
    "print('Min=',Min)"
   ]
  },
  {
   "cell_type": "code",
   "execution_count": 42,
   "id": "c335f121-bafd-4f70-bed7-df4b03615528",
   "metadata": {},
   "outputs": [
    {
     "name": "stdout",
     "output_type": "stream",
     "text": [
      "Upper bound: 16.98\n",
      "Lower bound: 5.35\n"
     ]
    }
   ],
   "source": [
    "Q1 = df['Hrs'].quantile(0.25)\n",
    "Q3 = df['Hrs'].quantile(0.75)\n",
    "IQR = Q3 - Q1\n",
    "Lower_bound = Q1 - 1.5 * IQR\n",
    "Upper_bound = Q3 + 1.5 * IQR\n",
    "print('Upper bound:', Upper_bound.round(2))\n",
    "print('Lower bound:', Lower_bound.round(2))"
   ]
  },
  {
   "cell_type": "code",
   "execution_count": 48,
   "id": "325bf82a-b303-4a8d-bcb8-bbdbb7f208b1",
   "metadata": {},
   "outputs": [
    {
     "data": {
      "text/plain": [
       "6"
      ]
     },
     "execution_count": 48,
     "metadata": {},
     "output_type": "execute_result"
    }
   ],
   "source": [
    "df['Rating'].nunique()"
   ]
  },
  {
   "cell_type": "code",
   "execution_count": 46,
   "id": "918efc51-ca55-4ecd-8ccb-22bd96db4269",
   "metadata": {},
   "outputs": [
    {
     "data": {
      "text/plain": [
       "6"
      ]
     },
     "execution_count": 46,
     "metadata": {},
     "output_type": "execute_result"
    }
   ],
   "source": [
    "df['Rating'].value_counts().count()"
   ]
  },
  {
   "cell_type": "code",
   "execution_count": 50,
   "id": "f903d337-e76c-4235-b945-e43c5bd08a19",
   "metadata": {},
   "outputs": [
    {
     "data": {
      "text/plain": [
       "0    Excellent\n",
       "Name: Rating, dtype: object"
      ]
     },
     "execution_count": 50,
     "metadata": {},
     "output_type": "execute_result"
    }
   ],
   "source": [
    "df['Rating'].mode()"
   ]
  },
  {
   "cell_type": "code",
   "execution_count": 52,
   "id": "4a1e3f26-5182-491b-a782-c7570c51e634",
   "metadata": {},
   "outputs": [
    {
     "data": {
      "text/plain": [
       "0"
      ]
     },
     "execution_count": 52,
     "metadata": {},
     "output_type": "execute_result"
    }
   ],
   "source": [
    "df.duplicated().sum()"
   ]
  },
  {
   "cell_type": "code",
   "execution_count": 54,
   "id": "6f46bffa-f6f4-4810-86c7-128f19abc073",
   "metadata": {},
   "outputs": [],
   "source": [
    "#Calculate the range of hours the employee is working for in case of unsatisfactory rating.\n",
    "df['Hrs'] = pd.to_numeric(df['Hrs'], errors='coerce')"
   ]
  },
  {
   "cell_type": "code",
   "execution_count": 57,
   "id": "e544906f-8fe4-4842-8e2a-dc1f2831626a",
   "metadata": {},
   "outputs": [],
   "source": [
    "df['Rating'].replace('Un satisfactory', 'Unsatisfactory', inplace=True)\n",
    "df['Rating'].replace('satisfactory', 'Satisfactory', inplace=True)"
   ]
  },
  {
   "cell_type": "code",
   "execution_count": 59,
   "id": "0bfb4d6d-3a78-410a-bbc7-ec54d242c78b",
   "metadata": {},
   "outputs": [],
   "source": [
    "df_filtered = df[df['Rating'] == 'Unsatisfactory']"
   ]
  },
  {
   "cell_type": "code",
   "execution_count": 61,
   "id": "3425c099-dfb9-4d53-87f0-3f6340b0fa3d",
   "metadata": {},
   "outputs": [
    {
     "name": "stdout",
     "output_type": "stream",
     "text": [
      "8.489765491\n",
      "0.091720323\n",
      "8.398045168\n"
     ]
    }
   ],
   "source": [
    "max_hrs= df_filtered['Hrs'].max()\n",
    "min_hrs= df_filtered['Hrs'].min()\n",
    "range_hrs = max_hrs - min_hrs\n",
    "print(max_hrs)\n",
    "print(min_hrs)\n",
    "print(range_hrs)"
   ]
  },
  {
   "cell_type": "code",
   "execution_count": 65,
   "id": "e704c003-2550-4e05-b8d9-06fc702fecd2",
   "metadata": {},
   "outputs": [
    {
     "name": "stderr",
     "output_type": "stream",
     "text": [
      "C:\\Users\\ashwi\\anaconda3\\Lib\\site-packages\\seaborn\\_oldcore.py:1119: FutureWarning: use_inf_as_na option is deprecated and will be removed in a future version. Convert inf values to NaN before operating instead.\n",
      "  with pd.option_context('mode.use_inf_as_na', True):\n"
     ]
    },
    {
     "data": {
      "image/png": "[encoded data removed]",
      "text/plain": [
       "<Figure size 1000x500 with 1 Axes>"
      ]
     },
     "metadata": {},
     "output_type": "display_data"
    }
   ],
   "source": [
    "#Check out the distribution of the Hrs variable using histogram and boxplot. Where do we have the outliers?\n",
    "plt.figure(figsize=(10,5))\n",
    "sns.histplot(df['Hrs'],bins=30,kde=True)\n",
    "plt.title='Hrs Distribution'\n",
    "plt.xlabel('Hrs')\n",
    "plt.ylabel('Density')\n",
    "plt.show()"
   ]
  },
  {
   "cell_type": "code",
   "execution_count": 68,
   "id": "4717f333-2ecf-4265-aa7b-45c5e6804bae",
   "metadata": {},
   "outputs": [
    {
     "data": {
      "image/png": "[encoded data removed]",
      "text/plain": [
       "<Figure size 800x600 with 1 Axes>"
      ]
     },
     "metadata": {},
     "output_type": "display_data"
    }
   ],
   "source": [
    "plt.figure(figsize=(8,6))\n",
    "sns.boxplot(x='Hrs',data =df)\n",
    "plt.title ='Hrs Distribution'\n",
    "plt.xlabel('Hrs')\n",
    "plt.ylabel('Density')\n",
    "plt.show()"
   ]
  },
  {
   "cell_type": "code",
   "execution_count": 70,
   "id": "5f13bd31-4b2b-4a28-98cc-9bfd60c9c330",
   "metadata": {},
   "outputs": [
    {
     "name": "stdout",
     "output_type": "stream",
     "text": [
      "Rating\n",
      "Excellent         371\n",
      "Outstanding        47\n",
      "Unsatisfactory     47\n",
      "Satisfactory       35\n",
      "Name: count, dtype: int64\n"
     ]
    }
   ],
   "source": [
    "rating_dist = df['Rating'].value_counts()\n",
    "print(rating_dist)"
   ]
  },
  {
   "cell_type": "code",
   "execution_count": 72,
   "id": "7d7d7c2d-fb47-4374-a034-b6352c89358d",
   "metadata": {},
   "outputs": [
    {
     "data": {
      "image/png": "[encoded data removed]",
      "text/plain": [
       "<Figure size 1000x600 with 1 Axes>"
      ]
     },
     "metadata": {},
     "output_type": "display_data"
    }
   ],
   "source": [
    "#Choose the correct frequency plot for Rating.\n",
    "plt.figure(figsize=(10,6))\n",
    "sns.barplot(x=rating_dist.index, y=rating_dist.values)\n",
    "plt.title='Frequency of Rating'\n",
    "plt.xlabel('Rating')\n",
    "plt.ylabel('Count')\n",
    "plt.xticks(rotation = 45)\n",
    "plt.show()"
   ]
  },
  {
   "cell_type": "code",
   "execution_count": 74,
   "id": "7bce087d-19fc-4d0d-974e-9519031847c2",
   "metadata": {},
   "outputs": [
    {
     "data": {
      "text/plain": [
       "EmployeeSatisfaction\n",
       "7    161\n",
       "6    142\n",
       "8    132\n",
       "9     65\n",
       "Name: count, dtype: int64"
      ]
     },
     "execution_count": 74,
     "metadata": {},
     "output_type": "execute_result"
    }
   ],
   "source": [
    "#Choose the correct frequencies for Employee Satisfaction Score.\n",
    "df['EmployeeSatisfaction'].value_counts()"
   ]
  },
  {
   "cell_type": "code",
   "execution_count": 76,
   "id": "a4c63aa4-d802-48bf-bb69-e9f0e180014d",
   "metadata": {},
   "outputs": [
    {
     "name": "stdout",
     "output_type": "stream",
     "text": [
      "Outstanding\n"
     ]
    }
   ],
   "source": [
    "#Which rating has the highest number of average working hours?\n",
    "max_avg_hrs_rating = df.groupby('Rating')['Hrs'].mean().idxmax()\n",
    "print(max_avg_hrs_rating)"
   ]
  },
  {
   "cell_type": "code",
   "execution_count": 78,
   "id": "d702f64a-451b-4d9d-b624-0b585bafe720",
   "metadata": {},
   "outputs": [
    {
     "name": "stdout",
     "output_type": "stream",
     "text": [
      "Upper bound: 16.98\n",
      "Lower bound: 5.35\n"
     ]
    }
   ],
   "source": [
    "#Identify the correct upper and lower cut off within Hrs using IQR rule to exclude the outliers. Round off to 2 decimal places.\n",
    "Q1 = df['Hrs'].quantile(0.25)\n",
    "Q3 = df['Hrs'].quantile(0.75)\n",
    "IQR = Q3 - Q1\n",
    "Lower_bound = Q1 - 1.5 * IQR\n",
    "Upper_bound = Q3 + 1.5 * IQR\n",
    "print('Upper bound:', Upper_bound.round(2))\n",
    "print('Lower bound:', Lower_bound.round(2))"
   ]
  },
  {
   "cell_type": "code",
   "execution_count": 96,
   "id": "17c59c18-a5b4-40a5-9e1c-61070d141d2d",
   "metadata": {},
   "outputs": [
    {
     "name": "stdout",
     "output_type": "stream",
     "text": [
      "    EmployeeId        Hrs        Rating  EmployeeSatisfaction\n",
      "0          E01  12.118051     Excellent                     6\n",
      "1          E02  13.298281     Excellent                     8\n",
      "2          E03  13.276334     Excellent                     7\n",
      "3          E04  10.798173     Excellent                     9\n",
      "4          E05  11.579172     Excellent                     8\n",
      "..         ...        ...           ...                   ...\n",
      "495       E496  13.807837   Outstanding                     6\n",
      "496       E497   9.237401     Excellent                     8\n",
      "497       E498  10.444520     Excellent                     7\n",
      "498       E499  12.143046     Excellent                     8\n",
      "499       E500   8.615313  Satisfactory                     7\n",
      "\n",
      "[489 rows x 4 columns]\n"
     ]
    }
   ],
   "source": [
    "#After treatment with the outliers, what’s the mean value for Hrs variable?\n",
    "df_filtered_outliers = df[df['Hrs'].between(Lower_bound, Upper_bound)]\n",
    "print(df_filtered_outliers)"
   ]
  },
  {
   "cell_type": "code",
   "execution_count": 98,
   "id": "10e20bc7-10fc-4c4e-b983-17ec7deb6724",
   "metadata": {},
   "outputs": [
    {
     "data": {
      "text/plain": [
       "489"
      ]
     },
     "execution_count": 98,
     "metadata": {},
     "output_type": "execute_result"
    }
   ],
   "source": [
    "len(df_filtered_outliers)"
   ]
  },
  {
   "cell_type": "code",
   "execution_count": 100,
   "id": "b3dd7cb9-83bf-4632-9094-04d23533a501",
   "metadata": {},
   "outputs": [
    {
     "data": {
      "text/plain": [
       "11.130160642118609"
      ]
     },
     "execution_count": 100,
     "metadata": {},
     "output_type": "execute_result"
    }
   ],
   "source": [
    "df_filtered_outliers['Hrs'].mean()"
   ]
  },
  {
   "cell_type": "code",
   "execution_count": 102,
   "id": "624d6948-806f-4b15-9267-d3e8238749e5",
   "metadata": {},
   "outputs": [
    {
     "name": "stdout",
     "output_type": "stream",
     "text": [
      "Rating\n",
      "Excellent         11.664907\n",
      "Outstanding       13.739970\n",
      "Satisfactory       8.786688\n",
      "Unsatisfactory     7.895444\n",
      "Name: Hrs, dtype: float64\n",
      "\n",
      "Rating\n",
      "Excellent         11.366188\n",
      "Outstanding       13.739970\n",
      "Satisfactory       8.786688\n",
      "Unsatisfactory     8.213704\n",
      "Name: Hrs, dtype: float64\n"
     ]
    }
   ],
   "source": [
    "#After treatment of outliers, which rating isn’t witnessing changes with respect to Hrs variable?\n",
    "original_rating = df.groupby('Rating')['Hrs'].mean()\n",
    "after_outlier_treating_rating = df_filtered_outliers.groupby('Rating')['Hrs'].mean()\n",
    "print(original_rating)\n",
    "print()\n",
    "print(after_outlier_treating_rating)"
   ]
  },
  {
   "cell_type": "code",
   "execution_count": 104,
   "id": "476abae9-3820-404c-9986-d24623340e7c",
   "metadata": {},
   "outputs": [
    {
     "name": "stdout",
     "output_type": "stream",
     "text": [
      "Rating\n",
      "Excellent         74.2\n",
      "Outstanding        9.4\n",
      "Unsatisfactory     9.4\n",
      "Satisfactory       7.0\n",
      "Name: count, dtype: float64\n"
     ]
    }
   ],
   "source": [
    "#understand the Rating variable. Please identify the probabilities for each rating within the dataset. [Hint: Use value_counts]\n",
    "Rating_count=df['Rating'].value_counts()\n",
    "Total_rating = Rating_count / 500 * 100\n",
    "\n",
    "print(Total_rating)"
   ]
  },
  {
   "cell_type": "code",
   "execution_count": 106,
   "id": "a4a4cc19-d597-44af-9f8a-4ccb213bcedf",
   "metadata": {},
   "outputs": [
    {
     "name": "stdout",
     "output_type": "stream",
     "text": [
      "0.18050689776637466\n"
     ]
    }
   ],
   "source": [
    "#Now considering the probabilities calculated in previous questions, Please calculate the probability that 2 out of a sample of 10 employees are rated as outstanding.\n",
    "from scipy.stats import binom\n",
    "n = 10\n",
    "k = 2\n",
    "p = 0.094\n",
    "pmf= binom.pmf(k,n,p)\n",
    "print(pmf)"
   ]
  },
  {
   "cell_type": "code",
   "execution_count": 108,
   "id": "aa8e53c2-003d-49a7-89ad-a94be54bc1b0",
   "metadata": {},
   "outputs": [
    {
     "name": "stdout",
     "output_type": "stream",
     "text": [
      "0.04994156994860695\n",
      "0.06\n"
     ]
    }
   ],
   "source": [
    "#Please calculate the probability that at least 3 out of a sample of 10 employees are rated as outstanding. Round it off to 2 decimal places.\n",
    "n = 10\n",
    "k = 3\n",
    "p = 0.094\n",
    "pmf= binom.pmf(k,n,p)\n",
    "print(pmf)\n",
    "\n",
    "prob = 1 - pmf\n",
    "n=10\n",
    "k=2\n",
    "cdf=1-binom.cdf(k,n,p)\n",
    "print(round(cdf,2))"
   ]
  },
  {
   "cell_type": "code",
   "execution_count": 120,
   "id": "ae7c2851-57f2-4f8d-953a-d67d8549c572",
   "metadata": {},
   "outputs": [
    {
     "name": "stdout",
     "output_type": "stream",
     "text": [
      "0.1510625224395229\n",
      "pmf= 0.15\n"
     ]
    }
   ],
   "source": [
    "#calculate the probability that at least(Exactly) 7 out of a sample of 10 employees are rated as outstanding or Excellent.\n",
    "n = 10\n",
    "k = 7\n",
    "p1= 0.094\n",
    "p2 = 0.742\n",
    "p=p1+p2\n",
    "pmf= binom.pmf(k,n,p)\n",
    "print(pmf)\n",
    "print('pmf=',round(pmf,2))"
   ]
  },
  {
   "cell_type": "code",
   "execution_count": 122,
   "id": "882fcd4a-e2a2-44ea-a443-01c928bb8f04",
   "metadata": {},
   "outputs": [
    {
     "name": "stdout",
     "output_type": "stream",
     "text": [
      "0.3726335695763792\n",
      "pmf= 0.37\n"
     ]
    }
   ],
   "source": [
    "#calculate the probability that None of the trainees are rated as Unsatisfactory. Round it off to 2 decimal places.\n",
    "n = 10\n",
    "k = 0\n",
    "p = 0.094\n",
    "pmf= binom.pmf(k,n,p)\n",
    "print(pmf)\n",
    "print('pmf=',round(pmf,2))"
   ]
  },
  {
   "cell_type": "code",
   "execution_count": 124,
   "id": "defb4e31-061f-4fc4-be83-778fef67cb03",
   "metadata": {},
   "outputs": [],
   "source": [
    "from scipy.stats import norm"
   ]
  },
  {
   "cell_type": "code",
   "execution_count": 126,
   "id": "76a8c4b4-2c64-44ce-933e-12cb49bd607d",
   "metadata": {},
   "outputs": [
    {
     "name": "stdout",
     "output_type": "stream",
     "text": [
      "mean of Hrs= 11.130160642118609\n",
      "sd of Hrs= 1.7402158929870497\n"
     ]
    }
   ],
   "source": [
    "# what’s the probability that an employee will provide less than 9 hrs of service? Round it off to 2 decimal places. [Hint: Use mean and SD for Hrs variable after outlier removal]\n",
    "\n",
    "mean = df_filtered_outliers['Hrs'].mean()\n",
    "print('mean of Hrs=',mean)\n",
    "\n",
    "sd_hrs = df_filtered_outliers['Hrs'].std()\n",
    "print('sd of Hrs=',sd_hrs)"
   ]
  },
  {
   "cell_type": "code",
   "execution_count": 128,
   "id": "d7bb7af3-13dd-489d-9038-cdbd04078a97",
   "metadata": {},
   "outputs": [
    {
     "name": "stdout",
     "output_type": "stream",
     "text": [
      "-1.2241379310344833\n"
     ]
    }
   ],
   "source": [
    "Zscore = (9-11.13)/1.74\n",
    "print(Zscore)"
   ]
  },
  {
   "cell_type": "code",
   "execution_count": 130,
   "id": "65424185-9adf-442e-873e-fce1235c7a0a",
   "metadata": {},
   "outputs": [
    {
     "name": "stdout",
     "output_type": "stream",
     "text": [
      "0.11045009955724272\n"
     ]
    }
   ],
   "source": [
    "prob_less_than_9hrs= norm.cdf(Zscore)\n",
    "print(prob_less_than_9hrs)"
   ]
  },
  {
   "cell_type": "code",
   "execution_count": 132,
   "id": "70dd0cf8-af54-477b-8643-3e57870a925d",
   "metadata": {},
   "outputs": [
    {
     "name": "stdout",
     "output_type": "stream",
     "text": [
      "Probability of working between 11 and 14 hrs: 0.48\n"
     ]
    }
   ],
   "source": [
    "# Calculate probability of working between 11 and 14 hrs (assuming normal distribution)\n",
    "probability_between_11_14 = norm.cdf(14, loc=11.13, scale=1.74) - norm.cdf(11, loc=11.13, scale=1.74)\n",
    "\n",
    "# Round the probability to 2 decimal places and print the result\n",
    "print(\"Probability of working between 11 and 14 hrs:\", round(probability_between_11_14, 2))"
   ]
  },
  {
   "cell_type": "code",
   "execution_count": 134,
   "id": "9f3c12fa-57c6-4b94-952c-8aa2697506ed",
   "metadata": {},
   "outputs": [],
   "source": [
    "#Calculate the 95% Confidence interval for the average of Hrs variable.\n",
    "from scipy.stats import t\n",
    "Mean_μ = 11.13\n",
    "Sd_σ = 1.74\n",
    "CI = 95\n",
    "Sample_size_n = 489"
   ]
  },
  {
   "cell_type": "code",
   "execution_count": 136,
   "id": "423a69f9-75ac-4d3c-8b4a-5b6864deae1b",
   "metadata": {},
   "outputs": [
    {
     "name": "stdout",
     "output_type": "stream",
     "text": [
      "1.9648370701650244\n"
     ]
    }
   ],
   "source": [
    "t_statistic = t.ppf(1 - (1 - 0.95) / 2, 489 - 1)\n",
    "print(t_statistic)"
   ]
  },
  {
   "cell_type": "code",
   "execution_count": 138,
   "id": "d08db043-027e-4d56-8022-9648ed03882c",
   "metadata": {},
   "outputs": [
    {
     "name": "stdout",
     "output_type": "stream",
     "text": [
      "10.975395773602644\n",
      "11.284604226397358\n"
     ]
    }
   ],
   "source": [
    "lower_bound = 11.13 - (t_statistic * 1.74 / np.sqrt(489))\n",
    "upper_bound = 11.13 + (t_statistic * 1.74 / np.sqrt(489))\n",
    "print(lower_bound)\n",
    "print(upper_bound)"
   ]
  },
  {
   "cell_type": "code",
   "execution_count": null,
   "id": "d3c5c348-bde5-450e-92dc-bd86f8dc1e12",
   "metadata": {},
   "outputs": [],
   "source": []
  }
 ],
 "metadata": {
  "kernelspec": {
   "display_name": "Python 3 (ipykernel)",
   "language": "python",
   "name": "python3"
  },
  "language_info": {
   "codemirror_mode": {
    "name": "ipython",
    "version": 3
   },
   "file_extension": ".py",
   "mimetype": "text/x-python",
   "name": "python",
   "nbconvert_exporter": "python",
   "pygments_lexer": "ipython3",
   "version": "3.11.7"
  }
 },
 "nbformat": 4,
 "nbformat_minor": 5
}
